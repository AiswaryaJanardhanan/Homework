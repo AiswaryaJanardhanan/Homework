{
 "cells": [
  {
   "cell_type": "markdown",
   "metadata": {},
   "source": [
    "# PyTorch Intro\n",
    "PyTorch Official Tutorial: https://pytorch.org/tutorials/"
   ]
  },
  {
   "cell_type": "markdown",
   "metadata": {},
   "source": [
    "This file will be uploaded to the Homework repository."
   ]
  },
  {
   "cell_type": "code",
   "execution_count": null,
   "metadata": {},
   "outputs": [],
   "source": [
    "import torch\n",
    "import torch.nn as nn\n",
    "import torch.nn.functional as F\n",
    "import torchvision\n",
    "from torchvision import transforms\n",
    "\n",
    "import matplotlib.pyplot as plt\n",
    "import numpy as np\n",
    "\n",
    "import pdb"
   ]
  },
  {
   "cell_type": "code",
   "execution_count": null,
   "metadata": {},
   "outputs": [],
   "source": [
    "import loader # a module (.py file) we created. Read for more information\n",
    "\n",
    "basic_transform = transforms.Compose([transforms.ToTensor()])\n",
    "\n",
    "batch_size = 32\n",
    "\n",
    "trainloader, validloader = loader.get_data_loader(basic_transform, \n",
    "                                                  basic_transform, \n",
    "                                                  batch_size)\n"
   ]
  },
  {
   "cell_type": "code",
   "execution_count": null,
   "metadata": {},
   "outputs": [],
   "source": [
    "# [32, 3, 30, 30] = [batch size, channels, height, width]\n",
    "for x, y in trainloader:\n",
    "    print(x.shape)\n",
    "    print(y.shape)\n",
    "    print(y)\n",
    "    break\n",
    "\n",
    "# vis\n",
    "for i in range(4):\n",
    "    plt.imshow(np.transpose(x[i,:], (1,2,0))) # 30 x 30 x 3\n",
    "    plt.show()\n"
   ]
  },
  {
   "cell_type": "code",
   "execution_count": null,
   "metadata": {},
   "outputs": [],
   "source": [
    "class CNN(nn.Module):\n",
    "    def __init__(self):\n",
    "        super(CNN, self).__init__()\n",
    "        \n",
    "        # define the layers\n",
    "        # kernel size = 3 means (3,3) kernel\n",
    "        # rgb -> 3 -> in channel\n",
    "        # number of feature maps = 16\n",
    "        # number of kernel parameters = out_channels x in_channels x kernel_size x kernel_size\n",
    "        self.l1 = nn.Conv2d(kernel_size=3, in_channels=3, out_channels=16)\n",
    "        \n",
    "        # MaxPool2d, AvgPool2d. \n",
    "        # The first 2 = 2x2 kernel size, \n",
    "        # The second 2 means the stride=2\n",
    "        self.pool = nn.MaxPool2d(kernel_size=2, stride=2) \n",
    "        \n",
    "        self.l2 = nn.Conv2d(kernel_size=3, in_channels=16, out_channels=32)\n",
    "        \n",
    "        # FC layer\n",
    "        self.fc1 = nn.Linear(32 * 6 * 6, 5) # IMPORTANT ! \n",
    "        # 32 (channels) * heigth in out (6) * width in out (6)\n",
    "        \n",
    "    def forward(self, x):\n",
    "        # define the data flow through the deep learning layers\n",
    "        \n",
    "        # x = self.l1(x)\n",
    "        # x = F.relu(x)\n",
    "        # x = self.pool(x)\n",
    "        # These three lines above will be equivalent to the following line\n",
    "        \n",
    "        x = self.pool(F.relu(self.l1(x))) # bs x 16 x 14 x 14. Width 30 ->(conv) 28 ->(pool) 14\n",
    "        x = self.pool(F.relu(self.l2(x))) # bs x 32 x 6 x 6. Width 14 -> (conv) ? -> (pool) ?\n",
    "        # print(x.shape)\n",
    "        x = x.reshape(-1, 32*6*6) # [bs x 1152]# CRUCIAL!\n",
    "        # print(x.shape)\n",
    "        x = self.fc1(x)\n",
    "        return x"
   ]
  },
  {
   "cell_type": "code",
   "execution_count": null,
   "metadata": {},
   "outputs": [],
   "source": [
    "m = CNN()\n",
    "pred = m(x) # x is one batch of data [32, 3, 30, 30]\n",
    "# pred is [32, 5] because we have 32 images and 5 classes\n",
    "print(pred.shape)"
   ]
  },
  {
   "cell_type": "code",
   "execution_count": null,
   "metadata": {},
   "outputs": [],
   "source": [
    "print(pred)\n",
    "print(torch.softmax(pred, dim=1))"
   ]
  },
  {
   "cell_type": "markdown",
   "metadata": {},
   "source": [
    "# Training"
   ]
  },
  {
   "cell_type": "code",
   "execution_count": null,
   "metadata": {},
   "outputs": [],
   "source": [
    "criterion = nn.CrossEntropyLoss()\n",
    "num_epoches = ? # give me a number from 2-5\n",
    "import tqdm\n",
    "\n",
    "import torch.optim as optim\n",
    "\n",
    "\n",
    "USE_CUDA = torch.cuda.is_available()\n",
    "\n",
    "if USE_CUDA:\n",
    "    m = m.cuda()"
   ]
  },
  {
   "cell_type": "code",
   "execution_count": null,
   "metadata": {},
   "outputs": [],
   "source": [
    "for epoch_id in range(num_epoches):\n",
    "    optimizer = optim.SGD(m.parameters(), lr=0.01 * 0.95 ** epoch_id)\n",
    "    for x, y in tqdm.tqdm(trainloader):\n",
    "        if USE_CUDA:\n",
    "            x, y = x.cuda(), y.cuda()\n",
    "        optimizer.zero_grad() # clear (reset) the gradient for the optimizer\n",
    "        pred = m(x) # forward pass, will call forward(self, x) function.\n",
    "        loss = criterion(pred, y)\n",
    "        loss.backward() # Backward pass: calculating the gradient\n",
    "        optimizer.step() # Updating the Parameters in backpropagation: optimize the model"
   ]
  },
  {
   "cell_type": "markdown",
   "metadata": {},
   "source": [
    "# Testing"
   ]
  },
  {
   "cell_type": "code",
   "execution_count": null,
   "metadata": {},
   "outputs": [],
   "source": [
    "all_gt = []\n",
    "all_pred = []\n",
    "\n",
    "for x, y in tqdm.tqdm(validloader):\n",
    "    if USE_CUDA:\n",
    "        x, y = x.cuda(), y.cuda()\n",
    "    all_gt += list(y.detach().cpu().numpy().reshape(-1))\n",
    "    pred = torch.argmax(m(x), dim=1)\n",
    "    all_pred += list(pred.detach().cpu().numpy().reshape(-1))\n",
    "    \n",
    "    "
   ]
  },
  {
   "cell_type": "code",
   "execution_count": null,
   "metadata": {},
   "outputs": [],
   "source": [
    "print(all_gt)\n",
    "print(all_pred)"
   ]
  },
  {
   "cell_type": "code",
   "execution_count": null,
   "metadata": {},
   "outputs": [],
   "source": [
    "acc = np.sum(np.array(all_gt) == np.array(all_pred)) / len(all_gt)\n",
    "print(\"Accuracy is:\", acc)"
   ]
  },
  {
   "cell_type": "code",
   "execution_count": null,
   "metadata": {},
   "outputs": [],
   "source": []
  }
 ],
 "metadata": {
  "kernelspec": {
   "display_name": "Python 3",
   "language": "python",
   "name": "python3"
  },
  "language_info": {
   "codemirror_mode": {
    "name": "ipython",
    "version": 3
   },
   "file_extension": ".py",
   "mimetype": "text/x-python",
   "name": "python",
   "nbconvert_exporter": "python",
   "pygments_lexer": "ipython3",
   "version": "3.7.4"
  }
 },
 "nbformat": 4,
 "nbformat_minor": 2
}
